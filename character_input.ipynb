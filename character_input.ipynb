#http://www.practicepython.org/exercise/2014/01/29/01-character-input.html
import datetime

print('What is your name?')
name = input()
print('Your name is ' + name)
print('How old are you?')
age = input()
print('You will be ', int(age) + 100, ' in 100 years.')
print('give me a random number:', end=' ')
number = input()
year = datetime.datetime.now()
age_100 = year.year - int(age) + 100
phrase = 'By the year '+ str(age_100) + ' you will be 100.\r\n'
print(phrase * int(number))
